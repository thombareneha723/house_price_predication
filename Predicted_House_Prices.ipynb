{
 "cells": [
  {
   "cell_type": "code",
   "execution_count": 2,
   "id": "c55b0c65",
   "metadata": {},
   "outputs": [],
   "source": [
    "import pandas as pd\n",
    "df=pd.read_csv('USA_Housing.csv')"
   ]
  },
  {
   "cell_type": "code",
   "execution_count": 3,
   "id": "542618af",
   "metadata": {},
   "outputs": [
    {
     "data": {
      "text/html": [
       "<div>\n",
       "<style scoped>\n",
       "    .dataframe tbody tr th:only-of-type {\n",
       "        vertical-align: middle;\n",
       "    }\n",
       "\n",
       "    .dataframe tbody tr th {\n",
       "        vertical-align: top;\n",
       "    }\n",
       "\n",
       "    .dataframe thead th {\n",
       "        text-align: right;\n",
       "    }\n",
       "</style>\n",
       "<table border=\"1\" class=\"dataframe\">\n",
       "  <thead>\n",
       "    <tr style=\"text-align: right;\">\n",
       "      <th></th>\n",
       "      <th>Avg. Area Income</th>\n",
       "      <th>Avg. Area House Age</th>\n",
       "      <th>Avg. Area Number of Rooms</th>\n",
       "      <th>Avg. Area Number of Bedrooms</th>\n",
       "      <th>Area Population</th>\n",
       "      <th>Price</th>\n",
       "    </tr>\n",
       "  </thead>\n",
       "  <tbody>\n",
       "    <tr>\n",
       "      <th>0</th>\n",
       "      <td>79545.45857</td>\n",
       "      <td>5.682861</td>\n",
       "      <td>7.009188</td>\n",
       "      <td>4.09</td>\n",
       "      <td>23086.80050</td>\n",
       "      <td>1.059034e+06</td>\n",
       "    </tr>\n",
       "    <tr>\n",
       "      <th>1</th>\n",
       "      <td>79248.64245</td>\n",
       "      <td>6.002900</td>\n",
       "      <td>6.730821</td>\n",
       "      <td>3.09</td>\n",
       "      <td>40173.07217</td>\n",
       "      <td>1.505891e+06</td>\n",
       "    </tr>\n",
       "    <tr>\n",
       "      <th>2</th>\n",
       "      <td>61287.06718</td>\n",
       "      <td>5.865890</td>\n",
       "      <td>8.512727</td>\n",
       "      <td>5.13</td>\n",
       "      <td>36882.15940</td>\n",
       "      <td>1.058988e+06</td>\n",
       "    </tr>\n",
       "    <tr>\n",
       "      <th>3</th>\n",
       "      <td>63345.24005</td>\n",
       "      <td>7.188236</td>\n",
       "      <td>5.586729</td>\n",
       "      <td>3.26</td>\n",
       "      <td>34310.24283</td>\n",
       "      <td>1.260617e+06</td>\n",
       "    </tr>\n",
       "    <tr>\n",
       "      <th>4</th>\n",
       "      <td>59982.19723</td>\n",
       "      <td>5.040555</td>\n",
       "      <td>7.839388</td>\n",
       "      <td>4.23</td>\n",
       "      <td>26354.10947</td>\n",
       "      <td>6.309435e+05</td>\n",
       "    </tr>\n",
       "    <tr>\n",
       "      <th>...</th>\n",
       "      <td>...</td>\n",
       "      <td>...</td>\n",
       "      <td>...</td>\n",
       "      <td>...</td>\n",
       "      <td>...</td>\n",
       "      <td>...</td>\n",
       "    </tr>\n",
       "    <tr>\n",
       "      <th>4995</th>\n",
       "      <td>60567.94414</td>\n",
       "      <td>7.830362</td>\n",
       "      <td>6.137356</td>\n",
       "      <td>3.46</td>\n",
       "      <td>22837.36103</td>\n",
       "      <td>1.060194e+06</td>\n",
       "    </tr>\n",
       "    <tr>\n",
       "      <th>4996</th>\n",
       "      <td>78491.27543</td>\n",
       "      <td>6.999135</td>\n",
       "      <td>6.576763</td>\n",
       "      <td>4.02</td>\n",
       "      <td>25616.11549</td>\n",
       "      <td>1.482618e+06</td>\n",
       "    </tr>\n",
       "    <tr>\n",
       "      <th>4997</th>\n",
       "      <td>63390.68689</td>\n",
       "      <td>7.250591</td>\n",
       "      <td>4.805081</td>\n",
       "      <td>2.13</td>\n",
       "      <td>33266.14549</td>\n",
       "      <td>1.030730e+06</td>\n",
       "    </tr>\n",
       "    <tr>\n",
       "      <th>4998</th>\n",
       "      <td>68001.33124</td>\n",
       "      <td>5.534388</td>\n",
       "      <td>7.130144</td>\n",
       "      <td>5.44</td>\n",
       "      <td>42625.62016</td>\n",
       "      <td>1.198657e+06</td>\n",
       "    </tr>\n",
       "    <tr>\n",
       "      <th>4999</th>\n",
       "      <td>65510.58180</td>\n",
       "      <td>5.992305</td>\n",
       "      <td>6.792336</td>\n",
       "      <td>4.07</td>\n",
       "      <td>46501.28380</td>\n",
       "      <td>1.298950e+06</td>\n",
       "    </tr>\n",
       "  </tbody>\n",
       "</table>\n",
       "<p>5000 rows × 6 columns</p>\n",
       "</div>"
      ],
      "text/plain": [
       "      Avg. Area Income  Avg. Area House Age  Avg. Area Number of Rooms  \\\n",
       "0          79545.45857             5.682861                   7.009188   \n",
       "1          79248.64245             6.002900                   6.730821   \n",
       "2          61287.06718             5.865890                   8.512727   \n",
       "3          63345.24005             7.188236                   5.586729   \n",
       "4          59982.19723             5.040555                   7.839388   \n",
       "...                ...                  ...                        ...   \n",
       "4995       60567.94414             7.830362                   6.137356   \n",
       "4996       78491.27543             6.999135                   6.576763   \n",
       "4997       63390.68689             7.250591                   4.805081   \n",
       "4998       68001.33124             5.534388                   7.130144   \n",
       "4999       65510.58180             5.992305                   6.792336   \n",
       "\n",
       "      Avg. Area Number of Bedrooms  Area Population         Price  \n",
       "0                             4.09      23086.80050  1.059034e+06  \n",
       "1                             3.09      40173.07217  1.505891e+06  \n",
       "2                             5.13      36882.15940  1.058988e+06  \n",
       "3                             3.26      34310.24283  1.260617e+06  \n",
       "4                             4.23      26354.10947  6.309435e+05  \n",
       "...                            ...              ...           ...  \n",
       "4995                          3.46      22837.36103  1.060194e+06  \n",
       "4996                          4.02      25616.11549  1.482618e+06  \n",
       "4997                          2.13      33266.14549  1.030730e+06  \n",
       "4998                          5.44      42625.62016  1.198657e+06  \n",
       "4999                          4.07      46501.28380  1.298950e+06  \n",
       "\n",
       "[5000 rows x 6 columns]"
      ]
     },
     "execution_count": 3,
     "metadata": {},
     "output_type": "execute_result"
    }
   ],
   "source": [
    "df"
   ]
  },
  {
   "cell_type": "code",
   "execution_count": 4,
   "id": "300391cc",
   "metadata": {},
   "outputs": [
    {
     "data": {
      "text/plain": [
       "Index(['Avg. Area Income', 'Avg. Area House Age', 'Avg. Area Number of Rooms',\n",
       "       'Avg. Area Number of Bedrooms', 'Area Population', 'Price'],\n",
       "      dtype='object')"
      ]
     },
     "execution_count": 4,
     "metadata": {},
     "output_type": "execute_result"
    }
   ],
   "source": [
    "df.columns"
   ]
  },
  {
   "cell_type": "code",
   "execution_count": 5,
   "id": "f0d50e4f",
   "metadata": {},
   "outputs": [],
   "source": [
    "import Stats_OOP as stats\n",
    "col_names=df.columns"
   ]
  },
  {
   "cell_type": "code",
   "execution_count": 6,
   "id": "a9ea538d",
   "metadata": {},
   "outputs": [
    {
     "name": "stdout",
     "output_type": "stream",
     "text": [
      "<class 'pandas.core.frame.DataFrame'>\n",
      "RangeIndex: 5000 entries, 0 to 4999\n",
      "Data columns (total 6 columns):\n",
      " #   Column                        Non-Null Count  Dtype  \n",
      "---  ------                        --------------  -----  \n",
      " 0   Avg. Area Income              5000 non-null   float64\n",
      " 1   Avg. Area House Age           5000 non-null   float64\n",
      " 2   Avg. Area Number of Rooms     5000 non-null   float64\n",
      " 3   Avg. Area Number of Bedrooms  5000 non-null   float64\n",
      " 4   Area Population               5000 non-null   float64\n",
      " 5   Price                         5000 non-null   float64\n",
      "dtypes: float64(6)\n",
      "memory usage: 234.5 KB\n"
     ]
    }
   ],
   "source": [
    "df.info()"
   ]
  },
  {
   "cell_type": "code",
   "execution_count": 7,
   "id": "41e8e134",
   "metadata": {},
   "outputs": [
    {
     "data": {
      "text/html": [
       "<div>\n",
       "<style scoped>\n",
       "    .dataframe tbody tr th:only-of-type {\n",
       "        vertical-align: middle;\n",
       "    }\n",
       "\n",
       "    .dataframe tbody tr th {\n",
       "        vertical-align: top;\n",
       "    }\n",
       "\n",
       "    .dataframe thead th {\n",
       "        text-align: right;\n",
       "    }\n",
       "</style>\n",
       "<table border=\"1\" class=\"dataframe\">\n",
       "  <thead>\n",
       "    <tr style=\"text-align: right;\">\n",
       "      <th></th>\n",
       "      <th>Avg. Area Income</th>\n",
       "      <th>Avg. Area House Age</th>\n",
       "      <th>Avg. Area Number of Rooms</th>\n",
       "      <th>Avg. Area Number of Bedrooms</th>\n",
       "      <th>Area Population</th>\n",
       "      <th>Price</th>\n",
       "    </tr>\n",
       "  </thead>\n",
       "  <tbody>\n",
       "    <tr>\n",
       "      <th>count</th>\n",
       "      <td>5000.000000</td>\n",
       "      <td>5000.000000</td>\n",
       "      <td>5000.000000</td>\n",
       "      <td>5000.000000</td>\n",
       "      <td>5000.000000</td>\n",
       "      <td>5.000000e+03</td>\n",
       "    </tr>\n",
       "    <tr>\n",
       "      <th>mean</th>\n",
       "      <td>68583.108984</td>\n",
       "      <td>5.977222</td>\n",
       "      <td>6.987792</td>\n",
       "      <td>3.981330</td>\n",
       "      <td>36163.516039</td>\n",
       "      <td>1.232073e+06</td>\n",
       "    </tr>\n",
       "    <tr>\n",
       "      <th>std</th>\n",
       "      <td>10657.991214</td>\n",
       "      <td>0.991456</td>\n",
       "      <td>1.005833</td>\n",
       "      <td>1.234137</td>\n",
       "      <td>9925.650114</td>\n",
       "      <td>3.531176e+05</td>\n",
       "    </tr>\n",
       "    <tr>\n",
       "      <th>min</th>\n",
       "      <td>17796.631190</td>\n",
       "      <td>2.644304</td>\n",
       "      <td>3.236194</td>\n",
       "      <td>2.000000</td>\n",
       "      <td>172.610686</td>\n",
       "      <td>1.593866e+04</td>\n",
       "    </tr>\n",
       "    <tr>\n",
       "      <th>25%</th>\n",
       "      <td>61480.562390</td>\n",
       "      <td>5.322283</td>\n",
       "      <td>6.299250</td>\n",
       "      <td>3.140000</td>\n",
       "      <td>29403.928700</td>\n",
       "      <td>9.975771e+05</td>\n",
       "    </tr>\n",
       "    <tr>\n",
       "      <th>50%</th>\n",
       "      <td>68804.286405</td>\n",
       "      <td>5.970429</td>\n",
       "      <td>7.002902</td>\n",
       "      <td>4.050000</td>\n",
       "      <td>36199.406690</td>\n",
       "      <td>1.232669e+06</td>\n",
       "    </tr>\n",
       "    <tr>\n",
       "      <th>75%</th>\n",
       "      <td>75783.338665</td>\n",
       "      <td>6.650808</td>\n",
       "      <td>7.665871</td>\n",
       "      <td>4.490000</td>\n",
       "      <td>42861.290770</td>\n",
       "      <td>1.471210e+06</td>\n",
       "    </tr>\n",
       "    <tr>\n",
       "      <th>max</th>\n",
       "      <td>107701.748400</td>\n",
       "      <td>9.519088</td>\n",
       "      <td>10.759588</td>\n",
       "      <td>6.500000</td>\n",
       "      <td>69621.713380</td>\n",
       "      <td>2.469066e+06</td>\n",
       "    </tr>\n",
       "  </tbody>\n",
       "</table>\n",
       "</div>"
      ],
      "text/plain": [
       "       Avg. Area Income  Avg. Area House Age  Avg. Area Number of Rooms  \\\n",
       "count       5000.000000          5000.000000                5000.000000   \n",
       "mean       68583.108984             5.977222                   6.987792   \n",
       "std        10657.991214             0.991456                   1.005833   \n",
       "min        17796.631190             2.644304                   3.236194   \n",
       "25%        61480.562390             5.322283                   6.299250   \n",
       "50%        68804.286405             5.970429                   7.002902   \n",
       "75%        75783.338665             6.650808                   7.665871   \n",
       "max       107701.748400             9.519088                  10.759588   \n",
       "\n",
       "       Avg. Area Number of Bedrooms  Area Population         Price  \n",
       "count                   5000.000000      5000.000000  5.000000e+03  \n",
       "mean                       3.981330     36163.516039  1.232073e+06  \n",
       "std                        1.234137      9925.650114  3.531176e+05  \n",
       "min                        2.000000       172.610686  1.593866e+04  \n",
       "25%                        3.140000     29403.928700  9.975771e+05  \n",
       "50%                        4.050000     36199.406690  1.232669e+06  \n",
       "75%                        4.490000     42861.290770  1.471210e+06  \n",
       "max                        6.500000     69621.713380  2.469066e+06  "
      ]
     },
     "execution_count": 7,
     "metadata": {},
     "output_type": "execute_result"
    }
   ],
   "source": [
    "df.describe()"
   ]
  },
  {
   "cell_type": "code",
   "execution_count": 8,
   "id": "d99f4062",
   "metadata": {},
   "outputs": [
    {
     "name": "stdout",
     "output_type": "stream",
     "text": [
      "Avg. Area Income\n",
      "-----*20\n",
      "Total sum: 342915544.91985\n",
      "Total count: 5000\n",
      "Minimum value: 17796.63119\n",
      "Maximum value: 107701.7484\n",
      "Range of data: 89905.11721\n",
      "Mean of data: 68583.10898397019\n",
      "Median of data: 68804.28640499999\n",
      "Mode: ModeResult(mode=array([17796.63119]), count=array([1]))\n",
      "Variance: 113592776.71532859\n",
      "Kurtosis: 0.044328500390600656\n",
      "Skewness: -0.03370985850476661\n",
      "Q1: 61480.56239\n",
      "Q3: 75783.33866499999\n",
      "Likely Follows Normal Distribution\n",
      "IQR: 14302.77627499999\n",
      "Lower Whisker: 40026.39797750002\n",
      "Upper Whisker: 97237.50307749998\n",
      "Total outliers count: 32\n",
      "95% Confidence Interval: 68287.68, 68878.53\n",
      "97% Confidence Interval: 68256.03, 68910.19\n",
      "99% Confidence Interval: 68194.84, 68971.38\n",
      "Variance: 113592776.71532859\n",
      "1 Std Dev Range: (57925.12 to 79241.10) --> 68.72% of data\n",
      "2 Std Dev Range: (47267.13 to 89899.09) --> 95.40% of data\n",
      "3 Std Dev Range: (36609.14 to 100557.08) --> 99.74% of data\n",
      "Detected continuous data.\n"
     ]
    },
    {
     "name": "stderr",
     "output_type": "stream",
     "text": [
      "C:\\Users\\NEHA\\master folder\\Stats_OOP.py:42: FutureWarning: Unlike other reduction functions (e.g. `skew`, `kurtosis`), the default behavior of `mode` typically preserves the axis it acts along. In SciPy 1.11.0, this behavior will change: the default value of `keepdims` will become False, the `axis` over which the statistic is taken will be eliminated, and the value None will no longer be accepted. Set `keepdims` to True or False to avoid this warning.\n",
      "  print(\"Mode:\",stats.mode(self.data))\n"
     ]
    },
    {
     "data": {
      "image/png": "[encoded data removed]",
      "text/plain": [
       "<Figure size 432x432 with 1 Axes>"
      ]
     },
     "metadata": {
      "needs_background": "light"
     },
     "output_type": "display_data"
    },
    {
     "data": {
      "image/png": "[encoded data removed]",
      "text/plain": [
       "<Figure size 432x432 with 1 Axes>"
      ]
     },
     "metadata": {
      "needs_background": "light"
     },
     "output_type": "display_data"
    },
    {
     "name": "stdout",
     "output_type": "stream",
     "text": [
      "Avg. Area House Age\n",
      "-----*20\n",
      "Total sum: 29886.110176435002\n",
      "Total count: 5000\n",
      "Minimum value: 2.644304186\n",
      "Maximum value: 9.519088066\n",
      "Range of data: 6.874783880000001\n",
      "Mean of data: 5.977222035287008\n",
      "Median of data: 5.970428947\n",
      "Mode: ModeResult(mode=array([2.64430419]), count=array([1]))\n",
      "Variance: 0.9829853565279006\n",
      "Kurtosis: -0.08455364720167058\n",
      "Skewness: -0.007211708026019969\n",
      "Q1: 5.32228301575\n",
      "Q3: 6.65080847925\n",
      "Likely Follows Normal Distribution\n",
      "IQR: 1.3285254635000001\n",
      "Lower Whisker: 3.3294948205\n",
      "Upper Whisker: 8.6435966745\n",
      "Total outliers count: 25\n",
      "95% Confidence Interval: 5.95, 6.00\n",
      "97% Confidence Interval: 5.95, 6.01\n",
      "99% Confidence Interval: 5.94, 6.01\n",
      "Variance: 0.9829853565279006\n",
      "1 Std Dev Range: (4.99 to 6.97) --> 68.06% of data\n",
      "2 Std Dev Range: (3.99 to 7.96) --> 95.46% of data\n",
      "3 Std Dev Range: (3.00 to 8.95) --> 99.80% of data\n",
      "Detected continuous data.\n"
     ]
    },
    {
     "name": "stderr",
     "output_type": "stream",
     "text": [
      "C:\\Users\\NEHA\\master folder\\Stats_OOP.py:42: FutureWarning: Unlike other reduction functions (e.g. `skew`, `kurtosis`), the default behavior of `mode` typically preserves the axis it acts along. In SciPy 1.11.0, this behavior will change: the default value of `keepdims` will become False, the `axis` over which the statistic is taken will be eliminated, and the value None will no longer be accepted. Set `keepdims` to True or False to avoid this warning.\n",
      "  print(\"Mode:\",stats.mode(self.data))\n"
     ]
    },
    {
     "data": {
      "image/png": "[encoded data removed]",
      "text/plain": [
       "<Figure size 432x432 with 1 Axes>"
      ]
     },
     "metadata": {
      "needs_background": "light"
     },
     "output_type": "display_data"
    },
    {
     "data": {
      "image/png": "[encoded data removed]",
      "text/plain": [
       "<Figure size 432x432 with 1 Axes>"
      ]
     },
     "metadata": {
      "needs_background": "light"
     },
     "output_type": "display_data"
    },
    {
     "name": "stdout",
     "output_type": "stream",
     "text": [
      "Avg. Area Number of Rooms\n",
      "-----*20\n",
      "Total sum: 34938.959254546004\n",
      "Total count: 5000\n",
      "Minimum value: 3.236194023\n",
      "Maximum value: 10.75958834\n",
      "Range of data: 7.523394317000001\n",
      "Mean of data: 6.987791850909204\n",
      "Median of data: 7.0029019869999996\n",
      "Mode: ModeResult(mode=array([3.23619402]), count=array([1]))\n",
      "Variance: 1.0117004891379318\n",
      "Kurtosis: -0.07577729480771245\n",
      "Skewness: -0.04098361033084274\n",
      "Q1: 6.2992501\n",
      "Q3: 7.66587144775\n",
      "Likely Follows Normal Distribution\n",
      "IQR: 1.3666213477499998\n",
      "Lower Whisker: 4.249318078375\n",
      "Upper Whisker: 9.715803469375\n",
      "Total outliers count: 24\n",
      "95% Confidence Interval: 6.96, 7.02\n",
      "97% Confidence Interval: 6.96, 7.02\n",
      "99% Confidence Interval: 6.95, 7.02\n",
      "Variance: 1.0117004891379318\n",
      "1 Std Dev Range: (5.98 to 7.99) --> 67.56% of data\n",
      "2 Std Dev Range: (4.98 to 9.00) --> 95.46% of data\n",
      "3 Std Dev Range: (3.97 to 10.01) --> 99.82% of data\n",
      "Detected continuous data.\n"
     ]
    },
    {
     "name": "stderr",
     "output_type": "stream",
     "text": [
      "C:\\Users\\NEHA\\master folder\\Stats_OOP.py:42: FutureWarning: Unlike other reduction functions (e.g. `skew`, `kurtosis`), the default behavior of `mode` typically preserves the axis it acts along. In SciPy 1.11.0, this behavior will change: the default value of `keepdims` will become False, the `axis` over which the statistic is taken will be eliminated, and the value None will no longer be accepted. Set `keepdims` to True or False to avoid this warning.\n",
      "  print(\"Mode:\",stats.mode(self.data))\n"
     ]
    },
    {
     "data": {
      "image/png": "[encoded data removed]",
      "text/plain": [
       "<Figure size 432x432 with 1 Axes>"
      ]
     },
     "metadata": {
      "needs_background": "light"
     },
     "output_type": "display_data"
    },
    {
     "data": {
      "image/png": "[encoded data removed]",
      "text/plain": [
       "<Figure size 432x432 with 1 Axes>"
      ]
     },
     "metadata": {
      "needs_background": "light"
     },
     "output_type": "display_data"
    },
    {
     "name": "stdout",
     "output_type": "stream",
     "text": [
      "Avg. Area Number of Bedrooms\n",
      "-----*20\n",
      "Total sum: 19906.65\n",
      "Total count: 5000\n",
      "Minimum value: 2.0\n",
      "Maximum value: 6.5\n",
      "Range of data: 4.5\n",
      "Mean of data: 3.9813299999999967\n",
      "Median of data: 4.05\n",
      "Mode: ModeResult(mode=array([4.38]), count=array([46]))\n",
      "Variance: 1.5230947900580103\n",
      "Kurtosis: -0.702063955902926\n",
      "Skewness: 0.37612751568905145\n",
      "Q1: 3.14\n",
      "Q3: 4.49\n",
      "Likely Does Not Follow Normal Distribution\n",
      "IQR: 1.35\n",
      "Lower Whisker: 1.1149999999999998\n",
      "Upper Whisker: 6.515000000000001\n",
      "Total outliers count: 0\n",
      "95% Confidence Interval: 3.95, 4.02\n",
      "97% Confidence Interval: 3.94, 4.02\n",
      "99% Confidence Interval: 3.94, 4.03\n",
      "Variance: 1.5230947900580103\n",
      "1 Std Dev Range: (2.75 to 5.22) --> 64.54% of data\n",
      "2 Std Dev Range: (1.51 to 6.45) --> 98.56% of data\n",
      "3 Std Dev Range: (0.28 to 7.68) --> 100.00% of data\n",
      "Detected continuous data.\n"
     ]
    },
    {
     "name": "stderr",
     "output_type": "stream",
     "text": [
      "C:\\Users\\NEHA\\master folder\\Stats_OOP.py:42: FutureWarning: Unlike other reduction functions (e.g. `skew`, `kurtosis`), the default behavior of `mode` typically preserves the axis it acts along. In SciPy 1.11.0, this behavior will change: the default value of `keepdims` will become False, the `axis` over which the statistic is taken will be eliminated, and the value None will no longer be accepted. Set `keepdims` to True or False to avoid this warning.\n",
      "  print(\"Mode:\",stats.mode(self.data))\n"
     ]
    },
    {
     "data": {
      "image/png": "[encoded data removed]",
      "text/plain": [
       "<Figure size 432x432 with 1 Axes>"
      ]
     },
     "metadata": {
      "needs_background": "light"
     },
     "output_type": "display_data"
    },
    {
     "data": {
      "image/png": "[encoded data removed]",
      "text/plain": [
       "<Figure size 432x432 with 1 Axes>"
      ]
     },
     "metadata": {
      "needs_background": "light"
     },
     "output_type": "display_data"
    },
    {
     "name": "stdout",
     "output_type": "stream",
     "text": [
      "Area Population\n",
      "-----*20\n",
      "Total sum: 180817580.19270128\n",
      "Total count: 5000\n",
      "Minimum value: 172.6106863\n",
      "Maximum value: 69621.71338\n",
      "Range of data: 69449.1026937\n",
      "Mean of data: 36163.51603854035\n",
      "Median of data: 36199.40669\n",
      "Mode: ModeResult(mode=array([172.6106863]), count=array([1]))\n",
      "Variance: 98518530.17653626\n",
      "Kurtosis: -0.00792594845876815\n",
      "Skewness: 0.05063448537927444\n",
      "Q1: 29403.9287\n",
      "Q3: 42861.29077\n",
      "Likely Follows Normal Distribution\n",
      "IQR: 13457.36207\n",
      "Lower Whisker: 9217.885595000003\n",
      "Upper Whisker: 63047.333875\n",
      "Total outliers count: 30\n",
      "95% Confidence Interval: 35888.39, 36438.64\n",
      "97% Confidence Interval: 35858.91, 36468.12\n",
      "99% Confidence Interval: 35801.92, 36525.11\n",
      "Variance: 98518530.17653626\n",
      "1 Std Dev Range: (26237.87 to 46089.17) --> 68.28% of data\n",
      "2 Std Dev Range: (16312.22 to 56014.82) --> 95.24% of data\n",
      "3 Std Dev Range: (6386.57 to 65940.47) --> 99.68% of data\n",
      "Detected continuous data.\n"
     ]
    },
    {
     "name": "stderr",
     "output_type": "stream",
     "text": [
      "C:\\Users\\NEHA\\master folder\\Stats_OOP.py:42: FutureWarning: Unlike other reduction functions (e.g. `skew`, `kurtosis`), the default behavior of `mode` typically preserves the axis it acts along. In SciPy 1.11.0, this behavior will change: the default value of `keepdims` will become False, the `axis` over which the statistic is taken will be eliminated, and the value None will no longer be accepted. Set `keepdims` to True or False to avoid this warning.\n",
      "  print(\"Mode:\",stats.mode(self.data))\n"
     ]
    },
    {
     "data": {
      "image/png": "[encoded data removed]",
      "text/plain": [
       "<Figure size 432x432 with 1 Axes>"
      ]
     },
     "metadata": {
      "needs_background": "light"
     },
     "output_type": "display_data"
    },
    {
     "data": {
      "image/png": "[encoded data removed]",
      "text/plain": [
       "<Figure size 432x432 with 1 Axes>"
      ]
     },
     "metadata": {
      "needs_background": "light"
     },
     "output_type": "display_data"
    },
    {
     "name": "stdout",
     "output_type": "stream",
     "text": [
      "Price\n",
      "-----*20\n",
      "Total sum: 6160363270.7265\n",
      "Total count: 5000\n",
      "Minimum value: 15938.65792\n",
      "Maximum value: 2469065.594\n",
      "Range of data: 2453126.93608\n",
      "Mean of data: 1232072.6541452995\n",
      "Median of data: 1232669.378\n",
      "Mode: ModeResult(mode=array([15938.65792]), count=array([1]))\n",
      "Variance: 124692058204.1025\n",
      "Kurtosis: -0.05606296627904683\n",
      "Skewness: -0.002717249444334567\n",
      "Q1: 997577.135075\n",
      "Q3: 1471210.2045\n",
      "Likely Follows Normal Distribution\n",
      "IQR: 473633.069425\n",
      "Lower Whisker: 287127.53093749995\n",
      "Upper Whisker: 2181659.8086375\n",
      "Total outliers count: 35\n",
      "95% Confidence Interval: 1222284.73, 1241860.58\n",
      "97% Confidence Interval: 1221236.03, 1242909.28\n",
      "99% Confidence Interval: 1219208.53, 1244936.78\n",
      "Variance: 124692058204.1025\n",
      "1 Std Dev Range: (878955.03 to 1585190.28) --> 68.14% of data\n",
      "2 Std Dev Range: (525837.40 to 1938307.91) --> 95.66% of data\n",
      "3 Std Dev Range: (172719.77 to 2291425.53) --> 99.74% of data\n",
      "Detected continuous data.\n"
     ]
    },
    {
     "name": "stderr",
     "output_type": "stream",
     "text": [
      "C:\\Users\\NEHA\\master folder\\Stats_OOP.py:42: FutureWarning: Unlike other reduction functions (e.g. `skew`, `kurtosis`), the default behavior of `mode` typically preserves the axis it acts along. In SciPy 1.11.0, this behavior will change: the default value of `keepdims` will become False, the `axis` over which the statistic is taken will be eliminated, and the value None will no longer be accepted. Set `keepdims` to True or False to avoid this warning.\n",
      "  print(\"Mode:\",stats.mode(self.data))\n"
     ]
    },
    {
     "data": {
      "image/png": "[encoded data removed]",
      "text/plain": [
       "<Figure size 432x432 with 1 Axes>"
      ]
     },
     "metadata": {
      "needs_background": "light"
     },
     "output_type": "display_data"
    },
    {
     "data": {
      "image/png": "[encoded data removed]",
      "text/plain": [
       "<Figure size 432x432 with 1 Axes>"
      ]
     },
     "metadata": {
      "needs_background": "light"
     },
     "output_type": "display_data"
    }
   ],
   "source": [
    "import Stats_OOP as stats\n",
    "\n",
    "for i in df.columns:\n",
    "    print(i)\n",
    "    print('-----*20')\n",
    "    st_obj=stats.Statistics_test(df[i])\n",
    "    st_obj.everything()"
   ]
  },
  {
   "cell_type": "code",
   "execution_count": 78,
   "id": "9a7fb298",
   "metadata": {},
   "outputs": [
    {
     "data": {
      "text/plain": [
       "Avg. Area Income                0\n",
       "Avg. Area House Age             0\n",
       "Avg. Area Number of Rooms       0\n",
       "Avg. Area Number of Bedrooms    0\n",
       "Area Population                 0\n",
       "Price                           0\n",
       "dtype: int64"
      ]
     },
     "execution_count": 78,
     "metadata": {},
     "output_type": "execute_result"
    }
   ],
   "source": [
    "df.isnull().sum()"
   ]
  },
  {
   "cell_type": "code",
   "execution_count": 12,
   "id": "52e3e692",
   "metadata": {},
   "outputs": [],
   "source": [
    "x= df.drop('Price',axis=1)\n",
    "y=df['Price']"
   ]
  },
  {
   "cell_type": "code",
   "execution_count": 13,
   "id": "e2e84ad2",
   "metadata": {},
   "outputs": [],
   "source": [
    "from sklearn.model_selection import train_test_split\n",
    "x_train,x_test,y_train,y_test=train_test_split(x,y,test_size=0.2,random_state=555)"
   ]
  },
  {
   "cell_type": "code",
   "execution_count": 14,
   "id": "a2c56128",
   "metadata": {},
   "outputs": [
    {
     "data": {
      "text/plain": [
       "(5000, 6)"
      ]
     },
     "execution_count": 14,
     "metadata": {},
     "output_type": "execute_result"
    }
   ],
   "source": [
    "df.shape"
   ]
  },
  {
   "cell_type": "code",
   "execution_count": 15,
   "id": "34372f8c",
   "metadata": {},
   "outputs": [
    {
     "name": "stdout",
     "output_type": "stream",
     "text": [
      "x_train_shape: (4000, 5)\n",
      "x_test_shape (1000, 5)\n",
      "y_train_shape: (4000,)\n",
      "y_test_shape: (1000,)\n"
     ]
    }
   ],
   "source": [
    "print(\"x_train_shape:\",x_train.shape)\n",
    "print(\"x_test_shape\",x_test.shape)\n",
    "print(\"y_train_shape:\",y_train.shape)\n",
    "print(\"y_test_shape:\",y_test.shape)"
   ]
  },
  {
   "cell_type": "code",
   "execution_count": 16,
   "id": "5cdf0795",
   "metadata": {},
   "outputs": [],
   "source": [
    "from sklearn.linear_model import LinearRegression\n",
    "lr=LinearRegression()\n",
    "lr.fit(x_train,y_train)\n",
    "y_predict=lr.predict(x_test)\n"
   ]
  },
  {
   "cell_type": "code",
   "execution_count": 17,
   "id": "9c35adbb",
   "metadata": {},
   "outputs": [
    {
     "name": "stdout",
     "output_type": "stream",
     "text": [
      "Avg. Area Income\t21.59\n",
      "**********\n",
      "Avg. Area House Age\t164499.23\n",
      "**********\n",
      "Avg. Area Number of Rooms\t119970.77\n",
      "**********\n",
      "Avg. Area Number of Bedrooms\t2059.82\n",
      "**********\n",
      "Area Population\t15.29\n",
      "**********\n",
      "Y-intercept: -2630570.4421595787\n"
     ]
    }
   ],
   "source": [
    "col_index=0\n",
    "for i in lr.coef_:\n",
    "    print(df.columns[col_index],round(i,2),sep=\"\\t\")\n",
    "    col_index+=1\n",
    "    print('*'*10)\n",
    "print(\"Y-intercept:\",lr.intercept_)"
   ]
  },
  {
   "cell_type": "code",
   "execution_count": 18,
   "id": "ff729e5f",
   "metadata": {},
   "outputs": [
    {
     "data": {
      "text/plain": [
       "1181284.0644096406"
      ]
     },
     "execution_count": 18,
     "metadata": {},
     "output_type": "execute_result"
    }
   ],
   "source": [
    "y_predict[0]"
   ]
  },
  {
   "cell_type": "code",
   "execution_count": 19,
   "id": "b89c2f4b",
   "metadata": {},
   "outputs": [
    {
     "data": {
      "text/plain": [
       "10012400493466.936"
      ]
     },
     "execution_count": 19,
     "metadata": {},
     "output_type": "execute_result"
    }
   ],
   "source": [
    "SSE=sum((y_test-y_predict)**2)\n",
    "SSE"
   ]
  },
  {
   "cell_type": "code",
   "execution_count": 20,
   "id": "18de9d36",
   "metadata": {},
   "outputs": [
    {
     "data": {
      "text/plain": [
       "10012400493.466936"
      ]
     },
     "execution_count": 20,
     "metadata": {},
     "output_type": "execute_result"
    }
   ],
   "source": [
    "MSE=(SSE/1000)\n",
    "MSE"
   ]
  },
  {
   "cell_type": "code",
   "execution_count": 21,
   "id": "f9b912f2",
   "metadata": {},
   "outputs": [
    {
     "data": {
      "text/plain": [
       "100061.9832577135"
      ]
     },
     "execution_count": 21,
     "metadata": {},
     "output_type": "execute_result"
    }
   ],
   "source": [
    "import numpy as np\n",
    "RMSE=np.sqrt(MSE)\n",
    "RMSE"
   ]
  },
  {
   "cell_type": "code",
   "execution_count": 22,
   "id": "eeb387cc",
   "metadata": {},
   "outputs": [
    {
     "data": {
      "text/plain": [
       "<seaborn.axisgrid.FacetGrid at 0x2009e2b2ca0>"
      ]
     },
     "execution_count": 22,
     "metadata": {},
     "output_type": "execute_result"
    },
    {
     "data": {
      "image/png": "[encoded data removed]",
      "text/plain": [
       "<Figure size 360x360 with 1 Axes>"
      ]
     },
     "metadata": {
      "needs_background": "light"
     },
     "output_type": "display_data"
    }
   ],
   "source": [
    "import seaborn as sns\n",
    "sns.displot(y_test-y_predict)"
   ]
  },
  {
   "cell_type": "code",
   "execution_count": 29,
   "id": "426aeabe",
   "metadata": {},
   "outputs": [
    {
     "name": "stdout",
     "output_type": "stream",
     "text": [
      "what is your income:343454\n",
      "what is your house age:5\n",
      "what is your number of rooms:6\n",
      "what is your number of bedrooms:5\n",
      "what is your area polulation:7\n"
     ]
    }
   ],
   "source": [
    "income=float(input(\"what is your income:\"))\n",
    "age=float(input(\"what is your house age:\"))\n",
    "rooms=float(input(\"what is your number of rooms:\"))\n",
    "bedrooms=float(input(\"what is your number of bedrooms:\"))\n",
    "pop=float(input(\"what is your area polulation:\"))\n",
    "user_input=np.array([income,age,rooms,bedrooms,pop])\n"
   ]
  },
  {
   "cell_type": "code",
   "execution_count": 30,
   "id": "224d36cd",
   "metadata": {},
   "outputs": [
    {
     "data": {
      "text/plain": [
       "100061.98325771345"
      ]
     },
     "execution_count": 30,
     "metadata": {},
     "output_type": "execute_result"
    }
   ],
   "source": [
    "import numpy as np\n",
    "from sklearn.metrics import mean_squared_error\n",
    "RMSE=np.sqrt(mean_squared_error(y_test,y_predict))\n",
    "RMSE"
   ]
  },
  {
   "cell_type": "code",
   "execution_count": 33,
   "id": "e758789a",
   "metadata": {},
   "outputs": [
    {
     "name": "stdout",
     "output_type": "stream",
     "text": [
      "Your house can be sold between $ 6333152 to 6388152\n"
     ]
    }
   ],
   "source": [
    "house_price_predict=lr.predict(user_input.reshape(1,-1))\n",
    "print(f\"Your house can be sold between $ {round(house_price_predict[0]-5000)} to {round(house_price_predict[0]+50000)}\")\n"
   ]
  },
  {
   "cell_type": "code",
   "execution_count": 26,
   "id": "cd7ce1a9",
   "metadata": {},
   "outputs": [
    {
     "name": "stdout",
     "output_type": "stream",
     "text": [
      "Requirement already satisfied: joblib in c:\\users\\neha\\anaconda3\\lib\\site-packages (1.0.1)\n",
      "Note: you may need to restart the kernel to use updated packages.\n"
     ]
    }
   ],
   "source": [
    "pip install joblib"
   ]
  },
  {
   "cell_type": "code",
   "execution_count": 27,
   "id": "947bfff2",
   "metadata": {},
   "outputs": [],
   "source": [
    "import joblib"
   ]
  },
  {
   "cell_type": "code",
   "execution_count": 28,
   "id": "f48b6d91",
   "metadata": {},
   "outputs": [
    {
     "data": {
      "text/plain": [
       "[' USA house price prediction model 100k rmse 25-08-25.pkl']"
      ]
     },
     "execution_count": 28,
     "metadata": {},
     "output_type": "execute_result"
    }
   ],
   "source": [
    "joblib.dump(lr,\" USA house price prediction model 100k rmse 25-08-25.pkl\")"
   ]
  },
  {
   "cell_type": "code",
   "execution_count": null,
   "id": "8a21b8f5",
   "metadata": {},
   "outputs": [],
   "source": []
  }
 ],
 "metadata": {
  "kernelspec": {
   "display_name": "Python 3",
   "language": "python",
   "name": "python3"
  },
  "language_info": {
   "codemirror_mode": {
    "name": "ipython",
    "version": 3
   },
   "file_extension": ".py",
   "mimetype": "text/x-python",
   "name": "python",
   "nbconvert_exporter": "python",
   "pygments_lexer": "ipython3",
   "version": "3.8.8"
  }
 },
 "nbformat": 4,
 "nbformat_minor": 5
}
